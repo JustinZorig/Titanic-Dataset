{
  "nbformat": 4,
  "nbformat_minor": 0,
  "metadata": {
    "colab": {
      "name": "Titanic Dataset.ipynb",
      "provenance": [],
      "collapsed_sections": []
    },
    "kernelspec": {
      "name": "python3",
      "display_name": "Python 3"
    },
    "language_info": {
      "name": "python"
    },
    "accelerator": "GPU"
  },
  "cells": [
    {
      "cell_type": "code",
      "execution_count": null,
      "metadata": {
        "colab": {
          "resources": {
            "http://localhost:8080/nbextensions/google.colab/files.js": {
              "data": "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",
              "ok": true,
              "headers": [
                [
                  "content-type",
                  "application/javascript"
                ]
              ],
              "status": 200,
              "status_text": ""
            }
          },
          "base_uri": "https://localhost:8080/",
          "height": 128
        },
        "id": "JTu0AN3ruJCC",
        "outputId": "a304ab4d-9a83-4857-dd51-d86940177706"
      },
      "outputs": [
        {
          "output_type": "display_data",
          "data": {
            "text/html": [
              "\n",
              "     <input type=\"file\" id=\"files-5ac604fb-2417-4fda-8b9c-72225523de29\" name=\"files[]\" multiple disabled\n",
              "        style=\"border:none\" />\n",
              "     <output id=\"result-5ac604fb-2417-4fda-8b9c-72225523de29\">\n",
              "      Upload widget is only available when the cell has been executed in the\n",
              "      current browser session. Please rerun this cell to enable.\n",
              "      </output>\n",
              "      <script src=\"/nbextensions/google.colab/files.js\"></script> "
            ],
            "text/plain": [
              "<IPython.core.display.HTML object>"
            ]
          },
          "metadata": {}
        },
        {
          "output_type": "stream",
          "name": "stdout",
          "text": [
            "Saving train.csv to train.csv\n"
          ]
        },
        {
          "output_type": "display_data",
          "data": {
            "text/html": [
              "\n",
              "     <input type=\"file\" id=\"files-b90bc718-179d-4774-9361-a0854531a28d\" name=\"files[]\" multiple disabled\n",
              "        style=\"border:none\" />\n",
              "     <output id=\"result-b90bc718-179d-4774-9361-a0854531a28d\">\n",
              "      Upload widget is only available when the cell has been executed in the\n",
              "      current browser session. Please rerun this cell to enable.\n",
              "      </output>\n",
              "      <script src=\"/nbextensions/google.colab/files.js\"></script> "
            ],
            "text/plain": [
              "<IPython.core.display.HTML object>"
            ]
          },
          "metadata": {}
        },
        {
          "output_type": "stream",
          "name": "stdout",
          "text": [
            "Saving test.csv to test.csv\n"
          ]
        }
      ],
      "source": [
        "from google.colab import files\n",
        "uploaded = files.upload()\n",
        "\n",
        "import io\n",
        "import pandas as pd\n",
        "df2 = pd.read_csv(io.BytesIO(uploaded['train.csv']))\n",
        "\n",
        "uploaded =files.upload()\n",
        "df3 = pd.read_csv(io.BytesIO(uploaded['test.csv']))\n",
        "\n",
        "# Dataset is now stored in a Pandas Dataframe"
      ]
    },
    {
      "cell_type": "code",
      "source": [
        "import numpy as np\n",
        "df2.fillna(0, inplace=True)\n",
        "df2['Sex_factor'] = pd.factorize(df2.Sex)[0]  # turns male, female to 0,1\n",
        "\n",
        "train_data = np.array((  df2['Pclass'], df2['Sex_factor'], df2['Age'], df2['Fare'], df2['SibSp'], df2['Parch'], df2['Survived']))\n",
        "                                   \n",
        "print(train_data[0:6,:])\n",
        "mean = train_data[0:6,:].mean(axis=0)     # need to normalize just the age \n",
        "std = train_data[0:6,:].std(axis=0)\n",
        "train_data[0:6,:]-=mean\n",
        "train_data[0:6,:]/=std\n",
        "print(train_data.shape[0]-1)"
      ],
      "metadata": {
        "id": "Sz1Z1qpv8pbz",
        "colab": {
          "base_uri": "https://localhost:8080/"
        },
        "outputId": "4b1637b7-747a-42c7-e3ea-04c5c75415aa"
      },
      "execution_count": null,
      "outputs": [
        {
          "output_type": "stream",
          "name": "stdout",
          "text": [
            "[[ 3.      1.      3.     ...  3.      1.      3.    ]\n",
            " [ 0.      1.      1.     ...  1.      0.      0.    ]\n",
            " [22.     38.     26.     ...  0.     26.     32.    ]\n",
            " [ 7.25   71.2833  7.925  ... 23.45   30.      7.75  ]\n",
            " [ 1.      1.      0.     ...  1.      0.      0.    ]\n",
            " [ 0.      0.      0.     ...  2.      0.      0.    ]]\n",
            "6\n"
          ]
        }
      ]
    },
    {
      "cell_type": "code",
      "source": [
        "a=[[1,2,3,4,5],[6,7,8,9,10]]\n",
        "b= np.transpose(a)\n",
        "print(a)\n",
        "np.random.shuffle(b)\n",
        "print(b)"
      ],
      "metadata": {
        "colab": {
          "base_uri": "https://localhost:8080/"
        },
        "id": "APWpWqWKKWoZ",
        "outputId": "b54e53b5-0181-4e89-ffac-46d7419a6a99"
      },
      "execution_count": null,
      "outputs": [
        {
          "output_type": "stream",
          "name": "stdout",
          "text": [
            "[[1, 2, 3, 4, 5], [6, 7, 8, 9, 10]]\n",
            "[[ 5 10]\n",
            " [ 4  9]\n",
            " [ 1  6]\n",
            " [ 2  7]\n",
            " [ 3  8]]\n"
          ]
        }
      ]
    },
    {
      "cell_type": "code",
      "source": [
        "# Building the network\n",
        "\n",
        "from keras import models, layers\n",
        "def build_model():\n",
        "  model =models.Sequential()\n",
        "  model.add(layers.Dense(64, activation ='softmax', input_shape = (train_data.shape[0]-1,)  ))\n",
        "  model.add(layers.Dense(32, activation='relu'))\n",
        " # model.add(layers.Dense(16, activation='relu'))\n",
        "  model.add(layers.Dense(1))  # Final layer is a prediction of a single value. Lets network able to predict any value rather than constraining it\n",
        "  model.compile(optimizer='rmsprop', loss='binary_crossentropy', metrics=['accuracy'])\n",
        "  model.summary\n",
        "  return model"
      ],
      "metadata": {
        "id": "jqfc1rv1D0K5"
      },
      "execution_count": null,
      "outputs": []
    },
    {
      "cell_type": "markdown",
      "source": [
        "The below is a k-fold validation technique"
      ],
      "metadata": {
        "id": "5JlSCGweR7Ln"
      }
    },
    {
      "cell_type": "code",
      "source": [
        "k=5 \n",
        "num_epochs =600\n",
        "num_validation_samples = len(train_data[0])//k\n",
        "train_data = np.transpose(train_data)\n",
        "np.random.shuffle(train_data)\n",
        "train_data = np.transpose(train_data)\n",
        "\n",
        "\n",
        "validation_scores=[]\n",
        "acc_histories=[]\n",
        "loss_histories=[]\n",
        "val_acc_histories=[]\n",
        "val_loss_histories=[]\n",
        "\n",
        "for fold in range(k):\n",
        "  val_data =train_data[0:6,num_validation_samples*fold: num_validation_samples*(fold+1)]\n",
        "  val_labels = train_data[6,num_validation_samples*fold: num_validation_samples*(fold+1)]\n",
        "\n",
        "  training_data = np.concatenate ((train_data[0:6,:num_validation_samples*fold],\n",
        "                                  train_data[0:6, num_validation_samples*(fold+1):]), axis =1) # + is a list concatenation\n",
        "  training_labels = np.concatenate ((train_data[6,:num_validation_samples*fold],\n",
        "                                  train_data[6,num_validation_samples*(fold+1):]))\n",
        "  training_data = np.transpose(training_data)\n",
        "  \n",
        "  val_data=np.transpose(val_data)\n",
        " # print(training_data.shape)\n",
        " # print(val_data.shape)\n",
        "\n",
        "  model =build_model()\n",
        "  from keras import backend as K\n",
        "  K.set_value(model.optimizer.learning_rate, 0.0001)\n",
        "  history = model.fit(training_data, training_labels, epochs=num_epochs, batch_size=32, verbose=0,\n",
        "                      validation_data =(val_data, val_labels) )\n",
        "  \n",
        "  #validation_score =model.evaluate(val_data, val_labels)\n",
        "  \n",
        "  #validation_scores.append(validation_score)\n",
        "  acc_histories.append(history.history['accuracy'])\n",
        "  loss_histories.append( history.history['loss'])\n",
        "  val_acc_histories.append(history.history['val_accuracy'])\n",
        "  val_loss_histories.append(history.history['val_loss'])\n",
        "\n",
        "  #print(type(training_data), type(training_labels))\n",
        "  #print(type(val_data), type(val_labels))\n",
        "  #print(type(history.history[\"val_loss\"]), type(history.history[\"loss\"]))\n",
        "  #print(history.history[\"val_loss\"])\n",
        "  #print(history.history['loss'])\n",
        "\n"
      ],
      "metadata": {
        "id": "mEFZFlo7EJrI"
      },
      "execution_count": null,
      "outputs": []
    },
    {
      "cell_type": "code",
      "source": [
        "import matplotlib.pyplot as plt\n",
        "\n",
        "avg_acc= [ np.mean([x[i] for x in acc_histories]) for i in range(num_epochs)]\n",
        "avg_loss= [ np.mean([x[i] for x in loss_histories]) for i in range(num_epochs)]\n",
        "avg_val_acc= [ np.mean([x[i] for x in val_acc_histories]) for i in range(num_epochs)]\n",
        "avg_val_loss= [ np.mean([x[i] for x in val_loss_histories]) for i in range(num_epochs)]\n",
        "\n",
        "\n",
        "epochs = range(1,num_epochs+1)\n",
        "\n",
        "plt.plot(epochs, avg_loss, 'r', label ='training loss')\n",
        "plt.plot( epochs, avg_val_loss, 'b', label='validation loss')\n",
        "plt.title('Training and validation loss')\n",
        "plt.xlabel('Epochs')\n",
        "plt.ylabel('loss')\n",
        "plt.legend()\n",
        "plt.show()\n",
        "\n",
        "plt.plot(epochs, avg_acc, 'r', label ='training accuracy')\n",
        "plt.plot(epochs, avg_val_acc, 'b', label='validation accuracy')\n",
        "plt.title('Training and validation accuracy')\n",
        "plt.xlabel('Epochs')\n",
        "plt.ylabel('accuracy')\n",
        "plt.legend()\n",
        "plt.show()\n",
        "\n"
      ],
      "metadata": {
        "colab": {
          "base_uri": "https://localhost:8080/",
          "height": 573
        },
        "id": "m-zkxJb5Z2tP",
        "outputId": "86835b07-fff4-4ef1-f12c-1456965da277"
      },
      "execution_count": null,
      "outputs": [
        {
          "output_type": "display_data",
          "data": {
            "image/png": "[encoded data removed]",
            "text/plain": [
              "<Figure size 432x288 with 1 Axes>"
            ]
          },
          "metadata": {
            "needs_background": "light"
          }
        },
        {
          "output_type": "display_data",
          "data": {
            "image/png": "[encoded data removed]",
            "text/plain": [
              "<Figure size 432x288 with 1 Axes>"
            ]
          },
          "metadata": {
            "needs_background": "light"
          }
        }
      ]
    },
    {
      "cell_type": "markdown",
      "source": [
        "The below is a simple training technique on the entire training dataset"
      ],
      "metadata": {
        "id": "VqjjVncVR_wn"
      }
    },
    {
      "cell_type": "code",
      "source": [
        "model =build_model()\n",
        "t_data = np.transpose(train_data[0:6])\n",
        "num_epochs=1000\n",
        "from keras import backend as K\n",
        "K.set_value(model.optimizer.learning_rate, 0.0001)\n",
        "history = model.fit(t_data, train_data[6], epochs=num_epochs,batch_size=32, verbose=0)\n",
        "\n"
      ],
      "metadata": {
        "id": "cdg8VjvIIsvX"
      },
      "execution_count": null,
      "outputs": []
    },
    {
      "cell_type": "code",
      "source": [
        "print(history.history.keys())\n",
        "\n",
        "epochs = range(1,num_epochs+1)\n",
        "loss = history.history['loss']\n",
        "acc=history.history['accuracy']\n",
        "\n",
        "plt.plot(epochs, loss, 'r', label ='training loss')\n",
        "plt.title('Training loss')\n",
        "plt.xlabel('Epochs')\n",
        "plt.ylabel('loss')\n",
        "plt.legend()\n",
        "plt.show()\n",
        "\n",
        "plt.plot(epochs, acc, 'r', label ='training accuracy')\n",
        "plt.title('Training accuracy')\n",
        "plt.xlabel('Epochs')\n",
        "plt.ylabel('accuracy')\n",
        "plt.legend()\n",
        "plt.show()"
      ],
      "metadata": {
        "colab": {
          "base_uri": "https://localhost:8080/",
          "height": 590
        },
        "id": "3kvh9R5MMX4Q",
        "outputId": "114ab2fe-92a7-4946-ff10-efa0aead3e70"
      },
      "execution_count": null,
      "outputs": [
        {
          "output_type": "stream",
          "name": "stdout",
          "text": [
            "dict_keys(['loss', 'accuracy'])\n"
          ]
        },
        {
          "output_type": "display_data",
          "data": {
            "image/png": "[encoded data removed]",
            "text/plain": [
              "<Figure size 432x288 with 1 Axes>"
            ]
          },
          "metadata": {
            "needs_background": "light"
          }
        },
        {
          "output_type": "display_data",
          "data": {
            "image/png": "[encoded data removed]",
            "text/plain": [
              "<Figure size 432x288 with 1 Axes>"
            ]
          },
          "metadata": {
            "needs_background": "light"
          }
        }
      ]
    },
    {
      "cell_type": "markdown",
      "source": [
        "Ignore below"
      ],
      "metadata": {
        "id": "tZ_SmzIeD2JI"
      }
    },
    {
      "cell_type": "code",
      "source": [
        "from keras import Input, layers, Model\n",
        "def build_model(data):\n",
        "  Pclass_input = Input(shape = (6,))\n",
        "  #Sex_input = Input(shape = (1,))\n",
        "  #Age_input= Input(shape = (1,))\n",
        "  #Fare_input=Input(shape = (1,))\n",
        "  #SibSp_input = Input(shape=(1,))\n",
        "  #Parch_input=Input(shape=(1,))\n",
        "\n",
        "  merged = layers.Concatenate(axis=1)([Pclass_input, Sex_input, Age_input, Fare_input,\n",
        "                                             SibSp_input, Parch_input])\n",
        "  hidden1= layers.Dense(64, input_dim = 5, activation = 'softmax', use_bias =True )(merged)\n",
        "  hidden2= layers.Dense(64, input_dim = 64, activation = 'softmax', use_bias =True )(hidden1)\n",
        "\n",
        " # Pclass_hidden = layers.Dense( 16 , activation= 'sigmoid')(Pclass_input)\n",
        " # Pclass_hidden1 = layers.Dense( 16 , activation = 'sigmoid')(Pclass_hidden)\n",
        "\n",
        " # Sex_hidden = layers.Dense( 16 , activation= 'sigmoid')(Sex_input)\n",
        " # Sex_hidden1 = layers.Dense( 16 , activation = 'sigmoid')(Sex_hidden)\n",
        "\n",
        " # Age_hidden = layers.Dense( 16 , activation= 'sigmoid')(Age_input)\n",
        " # Age_hidden1 = layers.Dense( 16 , activation = 'sigmoid')(Age_hidden)\n",
        "\n",
        " # Fare_hidden = layers.Dense( 16 , activation= 'sigmoid')(Fare_input)\n",
        " # Fare_hidden1 = layers.Dense( 16 , activation = 'sigmoid')(Fare_hidden)\n",
        "\n",
        " # SibSp_hidden = layers.Dense( 16 , activation= 'sigmoid')(SibSp_input)\n",
        " # SibSp_hidden1 = layers.Dense( 16 , activation = 'sigmoid')(SibSp_hidden)\n",
        "\n",
        " # Parch_hidden = layers.Dense( 16 , activation= 'sigmoid')(Parch_input)\n",
        " # Parch_hidden1 = layers.Dense( 16 , activation = 'sigmoid')(Parch_hidden)\n",
        "\n",
        " # concatenated= layers.concatenate([Pclass_hidden1, Sex_hidden1, Age_hidden1, Fare_hidden1,\n",
        "  #                                  SibSp_hidden1, Parch_hidden1], axis=-1)\n",
        "  \n",
        " # output = layers.Dense(1, activation = 'sigmoid')(concatenated)\n",
        "  output = layers.Dense(1, activation = 'sigmoid')(hidden2)\n",
        "  \n",
        "  model = Model([Pclass_input, Sex_input, Age_input, Fare_input, SibSp_input, Parch_input], output)\n",
        "  model.compile(optimizer = 'adam', loss = 'binary_crossentropy', metrics=['accuracy'])\n",
        "\n",
        "  return model"
      ],
      "metadata": {
        "id": "FjUoopcemtGE"
      },
      "execution_count": null,
      "outputs": []
    },
    {
      "cell_type": "code",
      "source": [
        "k=5 \n",
        "num_validation_samples = len(train_data)//k\n",
        "np.random.shuffle(train_data)\n",
        "\n",
        "validation_scores=[]\n",
        "acc_histories=[]\n",
        "loss_histories=[]\n",
        "for fold in range(k):\n",
        "  val_data =train_data[num_validation_samples*fold: num_validation_samples*(fold+1)]\n",
        "  training_data = np.concatenate ((train_data[:num_validation_samples*fold,:],\n",
        "                                  train_data[num_validation_samples*(fold+1):,:])) # + is a list concatenation\n",
        "\n",
        "  answers = training_data[:,6]\n",
        "  \n",
        "  model =build_model(training_data)\n",
        "  history = model.fit([ training_data[:,0], training_data[:,1], training_data[:,2], training_data[:,3],\n",
        "                       training_data[:,4], training_data[:,5]] , answers, epochs=50, batch_size=10, verbose=0 )\n",
        "  \n",
        "  validation_score =model.evaluate([ val_data[:,0], val_data[:,1], val_data[:,2], val_data[:,3],\n",
        "                                    val_data[:,4], val_data[:,5]], val_data[:,6])\n",
        "  \n",
        "  validation_scores.append(validation_score)\n",
        "  acc_history = history.history['accuracy']\n",
        "  loss_history = history.history['loss']\n",
        "  acc_histories.append(acc_history)\n",
        "  loss_histories.append(loss_history)\n",
        "\n",
        "#model =build_model(train_data)\n",
        "#history = model.fit([ train_data[:,0], train_data[:,1], train_data[:,2]], train_data[:,3],\n",
        "#                    validation_data = ([val_data[:,0], val_data[:,1], val_data[:,2]], val_data[:,3]),\n",
        "#                    epochs = 50, batch_size=1, verbose=0)"
      ],
      "metadata": {
        "colab": {
          "base_uri": "https://localhost:8080/",
          "height": 1000
        },
        "id": "_TOpgWLEormF",
        "outputId": "9f65e5d8-6aea-419d-f292-4fd34c3c24b7"
      },
      "execution_count": null,
      "outputs": [
        {
          "output_type": "stream",
          "name": "stdout",
          "text": [
            "[-0.78927234 -0.78927234 -0.78927234 -0.78927234 -0.78927234  1.2669898\n",
            " -0.78927234 -0.78927234 -0.78927234  1.2669898   1.2669898   1.2669898\n",
            " -0.78927234  1.2669898   1.2669898   1.2669898   1.2669898  -0.78927234\n",
            "  1.2669898  -0.78927234  1.2669898  -0.78927234  1.2669898  -0.78927234\n",
            " -0.78927234 -0.78927234 -0.78927234  1.2669898  -0.78927234 -0.78927234\n",
            "  1.2669898   1.2669898  -0.78927234  1.2669898  -0.78927234  1.2669898\n",
            " -0.78927234 -0.78927234  1.2669898  -0.78927234 -0.78927234 -0.78927234\n",
            "  1.2669898  -0.78927234 -0.78927234 -0.78927234  1.2669898  -0.78927234\n",
            "  1.2669898   1.2669898   1.2669898   1.2669898   1.2669898  -0.78927234\n",
            "  1.2669898  -0.78927234 -0.78927234 -0.78927234 -0.78927234 -0.78927234\n",
            " -0.78927234  1.2669898  -0.78927234  1.2669898   1.2669898   1.2669898\n",
            " -0.78927234  1.2669898   1.2669898  -0.78927234 -0.78927234 -0.78927234\n",
            " -0.78927234  1.2669898  -0.78927234 -0.78927234 -0.78927234 -0.78927234\n",
            " -0.78927234 -0.78927234  1.2669898  -0.78927234 -0.78927234 -0.78927234\n",
            "  1.2669898  -0.78927234 -0.78927234 -0.78927234  1.2669898   1.2669898\n",
            " -0.78927234 -0.78927234  1.2669898  -0.78927234 -0.78927234  1.2669898\n",
            "  1.2669898   1.2669898   1.2669898  -0.78927234 -0.78927234 -0.78927234\n",
            "  1.2669898   1.2669898  -0.78927234 -0.78927234  1.2669898   1.2669898\n",
            " -0.78927234 -0.78927234  1.2669898   1.2669898   1.2669898  -0.78927234\n",
            "  1.2669898  -0.78927234 -0.78927234 -0.78927234 -0.78927234  1.2669898\n",
            " -0.78927234  1.2669898  -0.78927234 -0.78927234  1.2669898  -0.78927234\n",
            "  1.2669898  -0.78927234 -0.78927234  1.2669898  -0.78927234 -0.78927234\n",
            " -0.78927234 -0.78927234 -0.78927234 -0.78927234 -0.78927234 -0.78927234\n",
            "  1.2669898  -0.78927234  1.2669898  -0.78927234 -0.78927234 -0.78927234\n",
            " -0.78927234 -0.78927234  1.2669898   1.2669898   1.2669898  -0.78927234\n",
            " -0.78927234 -0.78927234 -0.78927234 -0.78927234 -0.78927234 -0.78927234\n",
            "  1.2669898  -0.78927234  1.2669898  -0.78927234 -0.78927234  1.2669898\n",
            "  1.2669898  -0.78927234 -0.78927234 -0.78927234  1.2669898   1.2669898\n",
            " -0.78927234 -0.78927234  1.2669898  -0.78927234 -0.78927234  1.2669898\n",
            " -0.78927234  1.2669898  -0.78927234 -0.78927234  1.2669898   1.2669898\n",
            "  1.2669898   1.2669898  -0.78927234 -0.78927234 -0.78927234 -0.78927234\n",
            " -0.78927234 -0.78927234  1.2669898   1.2669898  -0.78927234 -0.78927234\n",
            " -0.78927234  1.2669898  -0.78927234 -0.78927234  1.2669898   1.2669898\n",
            " -0.78927234 -0.78927234  1.2669898   1.2669898   1.2669898  -0.78927234\n",
            " -0.78927234  1.2669898  -0.78927234  1.2669898  -0.78927234  1.2669898\n",
            " -0.78927234 -0.78927234  1.2669898  -0.78927234  1.2669898  -0.78927234\n",
            "  1.2669898  -0.78927234 -0.78927234  1.2669898  -0.78927234 -0.78927234\n",
            "  1.2669898   1.2669898   1.2669898   1.2669898  -0.78927234 -0.78927234\n",
            "  1.2669898  -0.78927234 -0.78927234  1.2669898   1.2669898   1.2669898\n",
            " -0.78927234  1.2669898  -0.78927234  1.2669898  -0.78927234  1.2669898\n",
            "  1.2669898   1.2669898   1.2669898   1.2669898   1.2669898   1.2669898\n",
            " -0.78927234  1.2669898  -0.78927234 -0.78927234 -0.78927234  1.2669898\n",
            "  1.2669898  -0.78927234 -0.78927234  1.2669898  -0.78927234 -0.78927234\n",
            " -0.78927234 -0.78927234 -0.78927234 -0.78927234  1.2669898  -0.78927234\n",
            "  1.2669898   1.2669898  -0.78927234 -0.78927234  1.2669898   1.2669898\n",
            " -0.78927234 -0.78927234  1.2669898  -0.78927234 -0.78927234 -0.78927234\n",
            "  1.2669898   1.2669898   1.2669898   1.2669898  -0.78927234  1.2669898\n",
            " -0.78927234  1.2669898  -0.78927234 -0.78927234  1.2669898  -0.78927234\n",
            " -0.78927234 -0.78927234  1.2669898   1.2669898  -0.78927234 -0.78927234\n",
            " -0.78927234 -0.78927234 -0.78927234  1.2669898   1.2669898   1.2669898\n",
            "  1.2669898   1.2669898  -0.78927234 -0.78927234 -0.78927234 -0.78927234\n",
            " -0.78927234 -0.78927234  1.2669898  -0.78927234  1.2669898   1.2669898\n",
            "  1.2669898  -0.78927234  1.2669898   1.2669898  -0.78927234 -0.78927234\n",
            "  1.2669898   1.2669898  -0.78927234  1.2669898  -0.78927234 -0.78927234\n",
            " -0.78927234 -0.78927234 -0.78927234  1.2669898   1.2669898  -0.78927234\n",
            "  1.2669898  -0.78927234 -0.78927234  1.2669898  -0.78927234 -0.78927234\n",
            "  1.2669898  -0.78927234  1.2669898  -0.78927234 -0.78927234 -0.78927234\n",
            " -0.78927234 -0.78927234 -0.78927234 -0.78927234 -0.78927234  1.2669898\n",
            " -0.78927234  1.2669898   1.2669898   1.2669898   1.2669898   1.2669898\n",
            " -0.78927234 -0.78927234 -0.78927234 -0.78927234 -0.78927234 -0.78927234\n",
            " -0.78927234  1.2669898  -0.78927234 -0.78927234 -0.78927234 -0.78927234\n",
            " -0.78927234 -0.78927234 -0.78927234 -0.78927234 -0.78927234  1.2669898\n",
            "  1.2669898  -0.78927234 -0.78927234  1.2669898  -0.78927234 -0.78927234\n",
            " -0.78927234 -0.78927234  1.2669898  -0.78927234 -0.78927234 -0.78927234\n",
            " -0.78927234 -0.78927234  1.2669898  -0.78927234 -0.78927234 -0.78927234\n",
            "  1.2669898  -0.78927234  1.2669898  -0.78927234 -0.78927234 -0.78927234\n",
            " -0.78927234  1.2669898  -0.78927234  1.2669898  -0.78927234  1.2669898\n",
            "  1.2669898   1.2669898  -0.78927234  1.2669898  -0.78927234  1.2669898\n",
            " -0.78927234 -0.78927234 -0.78927234 -0.78927234  1.2669898   1.2669898\n",
            " -0.78927234  1.2669898  -0.78927234  1.2669898  -0.78927234 -0.78927234\n",
            " -0.78927234 -0.78927234  1.2669898  -0.78927234 -0.78927234 -0.78927234\n",
            " -0.78927234 -0.78927234 -0.78927234 -0.78927234 -0.78927234  1.2669898\n",
            " -0.78927234 -0.78927234 -0.78927234 -0.78927234 -0.78927234 -0.78927234\n",
            "  1.2669898  -0.78927234  1.2669898  -0.78927234  1.2669898   1.2669898\n",
            "  1.2669898  -0.78927234  1.2669898  -0.78927234  1.2669898   1.2669898\n",
            " -0.78927234 -0.78927234  1.2669898   1.2669898   1.2669898  -0.78927234\n",
            " -0.78927234 -0.78927234  1.2669898  -0.78927234 -0.78927234  1.2669898\n",
            " -0.78927234  1.2669898  -0.78927234 -0.78927234 -0.78927234 -0.78927234\n",
            " -0.78927234 -0.78927234 -0.78927234  1.2669898  -0.78927234 -0.78927234\n",
            " -0.78927234  1.2669898  -0.78927234 -0.78927234 -0.78927234 -0.78927234\n",
            " -0.78927234  1.2669898   1.2669898  -0.78927234 -0.78927234 -0.78927234\n",
            " -0.78927234 -0.78927234 -0.78927234  1.2669898   1.2669898   1.2669898\n",
            " -0.78927234  1.2669898   1.2669898  -0.78927234  1.2669898   1.2669898\n",
            "  1.2669898  -0.78927234 -0.78927234 -0.78927234 -0.78927234 -0.78927234\n",
            "  1.2669898  -0.78927234  1.2669898   1.2669898   1.2669898   1.2669898\n",
            " -0.78927234 -0.78927234  1.2669898  -0.78927234 -0.78927234 -0.78927234\n",
            "  1.2669898   1.2669898  -0.78927234 -0.78927234  1.2669898  -0.78927234\n",
            "  1.2669898   1.2669898   1.2669898  -0.78927234  1.2669898  -0.78927234\n",
            " -0.78927234  1.2669898  -0.78927234 -0.78927234  1.2669898  -0.78927234\n",
            "  1.2669898   1.2669898  -0.78927234 -0.78927234 -0.78927234 -0.78927234\n",
            " -0.78927234 -0.78927234  1.2669898   1.2669898  -0.78927234 -0.78927234\n",
            " -0.78927234 -0.78927234 -0.78927234 -0.78927234  1.2669898  -0.78927234\n",
            "  1.2669898   1.2669898  -0.78927234  1.2669898   1.2669898  -0.78927234\n",
            "  1.2669898  -0.78927234 -0.78927234  1.2669898   1.2669898   1.2669898\n",
            " -0.78927234 -0.78927234  1.2669898  -0.78927234 -0.78927234  1.2669898\n",
            " -0.78927234  1.2669898  -0.78927234  1.2669898  -0.78927234  1.2669898\n",
            " -0.78927234  1.2669898  -0.78927234  1.2669898  -0.78927234 -0.78927234\n",
            " -0.78927234 -0.78927234  1.2669898  -0.78927234 -0.78927234  1.2669898\n",
            "  1.2669898   1.2669898   1.2669898  -0.78927234 -0.78927234 -0.78927234\n",
            " -0.78927234  1.2669898   1.2669898  -0.78927234 -0.78927234 -0.78927234\n",
            " -0.78927234 -0.78927234  1.2669898   1.2669898   1.2669898  -0.78927234\n",
            " -0.78927234 -0.78927234  1.2669898  -0.78927234 -0.78927234 -0.78927234\n",
            " -0.78927234  1.2669898  -0.78927234 -0.78927234 -0.78927234 -0.78927234\n",
            "  1.2669898  -0.78927234 -0.78927234 -0.78927234  1.2669898  -0.78927234\n",
            " -0.78927234 -0.78927234 -0.78927234 -0.78927234  1.2669898   1.2669898\n",
            " -0.78927234  1.2669898   1.2669898  -0.78927234  1.2669898   1.2669898\n",
            " -0.78927234 -0.78927234 -0.78927234  1.2669898  -0.78927234  1.2669898\n",
            " -0.78927234 -0.78927234  1.2669898  -0.78927234 -0.78927234 -0.78927234\n",
            " -0.78927234 -0.78927234 -0.78927234 -0.78927234  1.2669898  -0.78927234\n",
            " -0.78927234 -0.78927234  1.2669898  -0.78927234  1.2669898   1.2669898\n",
            " -0.78927234  1.2669898   1.2669898   1.2669898   1.2669898   1.2669898\n",
            "  1.2669898  -0.78927234  1.2669898   1.2669898  -0.78927234 -0.78927234\n",
            " -0.78927234 -0.78927234 -0.78927234 -0.78927234 -0.78927234 -0.78927234\n",
            " -0.78927234  1.2669898   1.2669898  -0.78927234 -0.78927234  1.2669898\n",
            " -0.78927234  1.2669898   1.2669898   1.2669898  -0.78927234  1.2669898\n",
            " -0.78927234  1.2669898   1.2669898  -0.78927234 -0.78927234 -0.78927234\n",
            " -0.78927234  1.2669898   1.2669898   1.2669898  -0.78927234 -0.78927234\n",
            " -0.78927234 -0.78927234  1.2669898  -0.78927234 -0.78927234 -0.78927234\n",
            " -0.78927234 -0.78927234  1.2669898  -0.78927234  1.2669898 ]\n"
          ]
        },
        {
          "output_type": "error",
          "ename": "KeyboardInterrupt",
          "evalue": "ignored",
          "traceback": [
            "\u001b[0;31m---------------------------------------------------------------------------\u001b[0m",
            "\u001b[0;31mKeyboardInterrupt\u001b[0m                         Traceback (most recent call last)",
            "\u001b[0;32m<ipython-input-37-b6b791596cd0>\u001b[0m in \u001b[0;36m<module>\u001b[0;34m()\u001b[0m\n\u001b[1;32m     15\u001b[0m   \u001b[0mmodel\u001b[0m \u001b[0;34m=\u001b[0m\u001b[0mbuild_model\u001b[0m\u001b[0;34m(\u001b[0m\u001b[0mtraining_data\u001b[0m\u001b[0;34m)\u001b[0m\u001b[0;34m\u001b[0m\u001b[0;34m\u001b[0m\u001b[0m\n\u001b[1;32m     16\u001b[0m   history = model.fit([ training_data[:,0], training_data[:,1], training_data[:,2], training_data[:,3],\n\u001b[0;32m---> 17\u001b[0;31m                        training_data[:,4], training_data[:,5]] , answers, epochs=50, batch_size=10, verbose=0 )\n\u001b[0m\u001b[1;32m     18\u001b[0m \u001b[0;34m\u001b[0m\u001b[0m\n\u001b[1;32m     19\u001b[0m   validation_score =model.evaluate([ val_data[:,0], val_data[:,1], val_data[:,2], val_data[:,3],\n",
            "\u001b[0;32m/usr/local/lib/python3.7/dist-packages/keras/utils/traceback_utils.py\u001b[0m in \u001b[0;36merror_handler\u001b[0;34m(*args, **kwargs)\u001b[0m\n\u001b[1;32m     62\u001b[0m     \u001b[0mfiltered_tb\u001b[0m \u001b[0;34m=\u001b[0m \u001b[0;32mNone\u001b[0m\u001b[0;34m\u001b[0m\u001b[0;34m\u001b[0m\u001b[0m\n\u001b[1;32m     63\u001b[0m     \u001b[0;32mtry\u001b[0m\u001b[0;34m:\u001b[0m\u001b[0;34m\u001b[0m\u001b[0;34m\u001b[0m\u001b[0m\n\u001b[0;32m---> 64\u001b[0;31m       \u001b[0;32mreturn\u001b[0m \u001b[0mfn\u001b[0m\u001b[0;34m(\u001b[0m\u001b[0;34m*\u001b[0m\u001b[0margs\u001b[0m\u001b[0;34m,\u001b[0m \u001b[0;34m**\u001b[0m\u001b[0mkwargs\u001b[0m\u001b[0;34m)\u001b[0m\u001b[0;34m\u001b[0m\u001b[0;34m\u001b[0m\u001b[0m\n\u001b[0m\u001b[1;32m     65\u001b[0m     \u001b[0;32mexcept\u001b[0m \u001b[0mException\u001b[0m \u001b[0;32mas\u001b[0m \u001b[0me\u001b[0m\u001b[0;34m:\u001b[0m  \u001b[0;31m# pylint: disable=broad-except\u001b[0m\u001b[0;34m\u001b[0m\u001b[0;34m\u001b[0m\u001b[0m\n\u001b[1;32m     66\u001b[0m       \u001b[0mfiltered_tb\u001b[0m \u001b[0;34m=\u001b[0m \u001b[0m_process_traceback_frames\u001b[0m\u001b[0;34m(\u001b[0m\u001b[0me\u001b[0m\u001b[0;34m.\u001b[0m\u001b[0m__traceback__\u001b[0m\u001b[0;34m)\u001b[0m\u001b[0;34m\u001b[0m\u001b[0;34m\u001b[0m\u001b[0m\n",
            "\u001b[0;32m/usr/local/lib/python3.7/dist-packages/keras/engine/training.py\u001b[0m in \u001b[0;36mfit\u001b[0;34m(self, x, y, batch_size, epochs, verbose, callbacks, validation_split, validation_data, shuffle, class_weight, sample_weight, initial_epoch, steps_per_epoch, validation_steps, validation_batch_size, validation_freq, max_queue_size, workers, use_multiprocessing)\u001b[0m\n\u001b[1;32m   1214\u001b[0m                 _r=1):\n\u001b[1;32m   1215\u001b[0m               \u001b[0mcallbacks\u001b[0m\u001b[0;34m.\u001b[0m\u001b[0mon_train_batch_begin\u001b[0m\u001b[0;34m(\u001b[0m\u001b[0mstep\u001b[0m\u001b[0;34m)\u001b[0m\u001b[0;34m\u001b[0m\u001b[0;34m\u001b[0m\u001b[0m\n\u001b[0;32m-> 1216\u001b[0;31m               \u001b[0mtmp_logs\u001b[0m \u001b[0;34m=\u001b[0m \u001b[0mself\u001b[0m\u001b[0;34m.\u001b[0m\u001b[0mtrain_function\u001b[0m\u001b[0;34m(\u001b[0m\u001b[0miterator\u001b[0m\u001b[0;34m)\u001b[0m\u001b[0;34m\u001b[0m\u001b[0;34m\u001b[0m\u001b[0m\n\u001b[0m\u001b[1;32m   1217\u001b[0m               \u001b[0;32mif\u001b[0m \u001b[0mdata_handler\u001b[0m\u001b[0;34m.\u001b[0m\u001b[0mshould_sync\u001b[0m\u001b[0;34m:\u001b[0m\u001b[0;34m\u001b[0m\u001b[0;34m\u001b[0m\u001b[0m\n\u001b[1;32m   1218\u001b[0m                 \u001b[0mcontext\u001b[0m\u001b[0;34m.\u001b[0m\u001b[0masync_wait\u001b[0m\u001b[0;34m(\u001b[0m\u001b[0;34m)\u001b[0m\u001b[0;34m\u001b[0m\u001b[0;34m\u001b[0m\u001b[0m\n",
            "\u001b[0;32m/usr/local/lib/python3.7/dist-packages/tensorflow/python/util/traceback_utils.py\u001b[0m in \u001b[0;36merror_handler\u001b[0;34m(*args, **kwargs)\u001b[0m\n\u001b[1;32m    148\u001b[0m     \u001b[0mfiltered_tb\u001b[0m \u001b[0;34m=\u001b[0m \u001b[0;32mNone\u001b[0m\u001b[0;34m\u001b[0m\u001b[0;34m\u001b[0m\u001b[0m\n\u001b[1;32m    149\u001b[0m     \u001b[0;32mtry\u001b[0m\u001b[0;34m:\u001b[0m\u001b[0;34m\u001b[0m\u001b[0;34m\u001b[0m\u001b[0m\n\u001b[0;32m--> 150\u001b[0;31m       \u001b[0;32mreturn\u001b[0m \u001b[0mfn\u001b[0m\u001b[0;34m(\u001b[0m\u001b[0;34m*\u001b[0m\u001b[0margs\u001b[0m\u001b[0;34m,\u001b[0m \u001b[0;34m**\u001b[0m\u001b[0mkwargs\u001b[0m\u001b[0;34m)\u001b[0m\u001b[0;34m\u001b[0m\u001b[0;34m\u001b[0m\u001b[0m\n\u001b[0m\u001b[1;32m    151\u001b[0m     \u001b[0;32mexcept\u001b[0m \u001b[0mException\u001b[0m \u001b[0;32mas\u001b[0m \u001b[0me\u001b[0m\u001b[0;34m:\u001b[0m\u001b[0;34m\u001b[0m\u001b[0;34m\u001b[0m\u001b[0m\n\u001b[1;32m    152\u001b[0m       \u001b[0mfiltered_tb\u001b[0m \u001b[0;34m=\u001b[0m \u001b[0m_process_traceback_frames\u001b[0m\u001b[0;34m(\u001b[0m\u001b[0me\u001b[0m\u001b[0;34m.\u001b[0m\u001b[0m__traceback__\u001b[0m\u001b[0;34m)\u001b[0m\u001b[0;34m\u001b[0m\u001b[0;34m\u001b[0m\u001b[0m\n",
            "\u001b[0;32m/usr/local/lib/python3.7/dist-packages/tensorflow/python/eager/def_function.py\u001b[0m in \u001b[0;36m__call__\u001b[0;34m(self, *args, **kwds)\u001b[0m\n\u001b[1;32m    908\u001b[0m \u001b[0;34m\u001b[0m\u001b[0m\n\u001b[1;32m    909\u001b[0m       \u001b[0;32mwith\u001b[0m \u001b[0mOptionalXlaContext\u001b[0m\u001b[0;34m(\u001b[0m\u001b[0mself\u001b[0m\u001b[0;34m.\u001b[0m\u001b[0m_jit_compile\u001b[0m\u001b[0;34m)\u001b[0m\u001b[0;34m:\u001b[0m\u001b[0;34m\u001b[0m\u001b[0;34m\u001b[0m\u001b[0m\n\u001b[0;32m--> 910\u001b[0;31m         \u001b[0mresult\u001b[0m \u001b[0;34m=\u001b[0m \u001b[0mself\u001b[0m\u001b[0;34m.\u001b[0m\u001b[0m_call\u001b[0m\u001b[0;34m(\u001b[0m\u001b[0;34m*\u001b[0m\u001b[0margs\u001b[0m\u001b[0;34m,\u001b[0m \u001b[0;34m**\u001b[0m\u001b[0mkwds\u001b[0m\u001b[0;34m)\u001b[0m\u001b[0;34m\u001b[0m\u001b[0;34m\u001b[0m\u001b[0m\n\u001b[0m\u001b[1;32m    911\u001b[0m \u001b[0;34m\u001b[0m\u001b[0m\n\u001b[1;32m    912\u001b[0m       \u001b[0mnew_tracing_count\u001b[0m \u001b[0;34m=\u001b[0m \u001b[0mself\u001b[0m\u001b[0;34m.\u001b[0m\u001b[0mexperimental_get_tracing_count\u001b[0m\u001b[0;34m(\u001b[0m\u001b[0;34m)\u001b[0m\u001b[0;34m\u001b[0m\u001b[0;34m\u001b[0m\u001b[0m\n",
            "\u001b[0;32m/usr/local/lib/python3.7/dist-packages/tensorflow/python/eager/def_function.py\u001b[0m in \u001b[0;36m_call\u001b[0;34m(self, *args, **kwds)\u001b[0m\n\u001b[1;32m    940\u001b[0m       \u001b[0;31m# In this case we have created variables on the first call, so we run the\u001b[0m\u001b[0;34m\u001b[0m\u001b[0;34m\u001b[0m\u001b[0;34m\u001b[0m\u001b[0m\n\u001b[1;32m    941\u001b[0m       \u001b[0;31m# defunned version which is guaranteed to never create variables.\u001b[0m\u001b[0;34m\u001b[0m\u001b[0;34m\u001b[0m\u001b[0;34m\u001b[0m\u001b[0m\n\u001b[0;32m--> 942\u001b[0;31m       \u001b[0;32mreturn\u001b[0m \u001b[0mself\u001b[0m\u001b[0;34m.\u001b[0m\u001b[0m_stateless_fn\u001b[0m\u001b[0;34m(\u001b[0m\u001b[0;34m*\u001b[0m\u001b[0margs\u001b[0m\u001b[0;34m,\u001b[0m \u001b[0;34m**\u001b[0m\u001b[0mkwds\u001b[0m\u001b[0;34m)\u001b[0m  \u001b[0;31m# pylint: disable=not-callable\u001b[0m\u001b[0;34m\u001b[0m\u001b[0;34m\u001b[0m\u001b[0m\n\u001b[0m\u001b[1;32m    943\u001b[0m     \u001b[0;32melif\u001b[0m \u001b[0mself\u001b[0m\u001b[0;34m.\u001b[0m\u001b[0m_stateful_fn\u001b[0m \u001b[0;32mis\u001b[0m \u001b[0;32mnot\u001b[0m \u001b[0;32mNone\u001b[0m\u001b[0;34m:\u001b[0m\u001b[0;34m\u001b[0m\u001b[0;34m\u001b[0m\u001b[0m\n\u001b[1;32m    944\u001b[0m       \u001b[0;31m# Release the lock early so that multiple threads can perform the call\u001b[0m\u001b[0;34m\u001b[0m\u001b[0;34m\u001b[0m\u001b[0;34m\u001b[0m\u001b[0m\n",
            "\u001b[0;32m/usr/local/lib/python3.7/dist-packages/tensorflow/python/eager/function.py\u001b[0m in \u001b[0;36m__call__\u001b[0;34m(self, *args, **kwargs)\u001b[0m\n\u001b[1;32m   3129\u001b[0m        filtered_flat_args) = self._maybe_define_function(args, kwargs)\n\u001b[1;32m   3130\u001b[0m     return graph_function._call_flat(\n\u001b[0;32m-> 3131\u001b[0;31m         filtered_flat_args, captured_inputs=graph_function.captured_inputs)  # pylint: disable=protected-access\n\u001b[0m\u001b[1;32m   3132\u001b[0m \u001b[0;34m\u001b[0m\u001b[0m\n\u001b[1;32m   3133\u001b[0m   \u001b[0;34m@\u001b[0m\u001b[0mproperty\u001b[0m\u001b[0;34m\u001b[0m\u001b[0;34m\u001b[0m\u001b[0m\n",
            "\u001b[0;32m/usr/local/lib/python3.7/dist-packages/tensorflow/python/eager/function.py\u001b[0m in \u001b[0;36m_call_flat\u001b[0;34m(self, args, captured_inputs, cancellation_manager)\u001b[0m\n\u001b[1;32m   1958\u001b[0m       \u001b[0;31m# No tape is watching; skip to running the function.\u001b[0m\u001b[0;34m\u001b[0m\u001b[0;34m\u001b[0m\u001b[0;34m\u001b[0m\u001b[0m\n\u001b[1;32m   1959\u001b[0m       return self._build_call_outputs(self._inference_function.call(\n\u001b[0;32m-> 1960\u001b[0;31m           ctx, args, cancellation_manager=cancellation_manager))\n\u001b[0m\u001b[1;32m   1961\u001b[0m     forward_backward = self._select_forward_and_backward_functions(\n\u001b[1;32m   1962\u001b[0m         \u001b[0margs\u001b[0m\u001b[0;34m,\u001b[0m\u001b[0;34m\u001b[0m\u001b[0;34m\u001b[0m\u001b[0m\n",
            "\u001b[0;32m/usr/local/lib/python3.7/dist-packages/tensorflow/python/eager/function.py\u001b[0m in \u001b[0;36mcall\u001b[0;34m(self, ctx, args, cancellation_manager)\u001b[0m\n\u001b[1;32m    601\u001b[0m               \u001b[0minputs\u001b[0m\u001b[0;34m=\u001b[0m\u001b[0margs\u001b[0m\u001b[0;34m,\u001b[0m\u001b[0;34m\u001b[0m\u001b[0;34m\u001b[0m\u001b[0m\n\u001b[1;32m    602\u001b[0m               \u001b[0mattrs\u001b[0m\u001b[0;34m=\u001b[0m\u001b[0mattrs\u001b[0m\u001b[0;34m,\u001b[0m\u001b[0;34m\u001b[0m\u001b[0;34m\u001b[0m\u001b[0m\n\u001b[0;32m--> 603\u001b[0;31m               ctx=ctx)\n\u001b[0m\u001b[1;32m    604\u001b[0m         \u001b[0;32melse\u001b[0m\u001b[0;34m:\u001b[0m\u001b[0;34m\u001b[0m\u001b[0;34m\u001b[0m\u001b[0m\n\u001b[1;32m    605\u001b[0m           outputs = execute.execute_with_cancellation(\n",
            "\u001b[0;32m/usr/local/lib/python3.7/dist-packages/tensorflow/python/eager/execute.py\u001b[0m in \u001b[0;36mquick_execute\u001b[0;34m(op_name, num_outputs, inputs, attrs, ctx, name)\u001b[0m\n\u001b[1;32m     57\u001b[0m     \u001b[0mctx\u001b[0m\u001b[0;34m.\u001b[0m\u001b[0mensure_initialized\u001b[0m\u001b[0;34m(\u001b[0m\u001b[0;34m)\u001b[0m\u001b[0;34m\u001b[0m\u001b[0;34m\u001b[0m\u001b[0m\n\u001b[1;32m     58\u001b[0m     tensors = pywrap_tfe.TFE_Py_Execute(ctx._handle, device_name, op_name,\n\u001b[0;32m---> 59\u001b[0;31m                                         inputs, attrs, num_outputs)\n\u001b[0m\u001b[1;32m     60\u001b[0m   \u001b[0;32mexcept\u001b[0m \u001b[0mcore\u001b[0m\u001b[0;34m.\u001b[0m\u001b[0m_NotOkStatusException\u001b[0m \u001b[0;32mas\u001b[0m \u001b[0me\u001b[0m\u001b[0;34m:\u001b[0m\u001b[0;34m\u001b[0m\u001b[0;34m\u001b[0m\u001b[0m\n\u001b[1;32m     61\u001b[0m     \u001b[0;32mif\u001b[0m \u001b[0mname\u001b[0m \u001b[0;32mis\u001b[0m \u001b[0;32mnot\u001b[0m \u001b[0;32mNone\u001b[0m\u001b[0;34m:\u001b[0m\u001b[0;34m\u001b[0m\u001b[0;34m\u001b[0m\u001b[0m\n",
            "\u001b[0;31mKeyboardInterrupt\u001b[0m: "
          ]
        }
      ]
    },
    {
      "cell_type": "code",
      "source": [
        "# plot results\n",
        "num_epochs=50\n",
        "average_mae_history = [np.mean( [x[i] for x in all_mae_histories]) for i in range(num_epochs) ]\n",
        "import matplotlib.pyplot as plt\n",
        "\n",
        "plt.plot(range(1, len(average_mae_history) +1), average_mae_history)\n",
        "plt.xlabel('Epochs')\n",
        "plt.ylabel(' Validation MAE')\n",
        "plt.show()\n",
        "\n",
        "def smooth_curve(points, factor=0.9):\n",
        "  smoothed_points=[]\n",
        "  for point in points:\n",
        "    if smoothed_points:\n",
        "      previous = smoothed_points[-1]\n",
        "      smoothed_points.append(previous*factor + point*(1-factor))\n",
        "    else:\n",
        "      smoothed_points.append(point)\n",
        "  return smoothed_points\n",
        "\n",
        "smooth_mae_history = smooth_curve(average_mae_history[10:])\n",
        "plt.plot(range(1, len(smooth_mae_history)+1), smooth_mae_history)\n",
        "plt.xlabel('Epochs')\n",
        "plt.ylabel('Validation MAE')\n",
        "plt.show()\n"
      ],
      "metadata": {
        "colab": {
          "base_uri": "https://localhost:8080/",
          "height": 356
        },
        "id": "aURGzPc4_YoR",
        "outputId": "7f90f619-b755-4562-f056-b0e60fb70692"
      },
      "execution_count": null,
      "outputs": [
        {
          "output_type": "error",
          "ename": "NameError",
          "evalue": "ignored",
          "traceback": [
            "\u001b[0;31m---------------------------------------------------------------------------\u001b[0m",
            "\u001b[0;31mNameError\u001b[0m                                 Traceback (most recent call last)",
            "\u001b[0;32m<ipython-input-24-da25f1a39f32>\u001b[0m in \u001b[0;36m<module>\u001b[0;34m()\u001b[0m\n\u001b[1;32m      1\u001b[0m \u001b[0;31m# plot results\u001b[0m\u001b[0;34m\u001b[0m\u001b[0;34m\u001b[0m\u001b[0;34m\u001b[0m\u001b[0m\n\u001b[1;32m      2\u001b[0m \u001b[0mnum_epochs\u001b[0m\u001b[0;34m=\u001b[0m\u001b[0;36m50\u001b[0m\u001b[0;34m\u001b[0m\u001b[0;34m\u001b[0m\u001b[0m\n\u001b[0;32m----> 3\u001b[0;31m \u001b[0maverage_mae_history\u001b[0m \u001b[0;34m=\u001b[0m \u001b[0;34m[\u001b[0m\u001b[0mnp\u001b[0m\u001b[0;34m.\u001b[0m\u001b[0mmean\u001b[0m\u001b[0;34m(\u001b[0m \u001b[0;34m[\u001b[0m\u001b[0mx\u001b[0m\u001b[0;34m[\u001b[0m\u001b[0mi\u001b[0m\u001b[0;34m]\u001b[0m \u001b[0;32mfor\u001b[0m \u001b[0mx\u001b[0m \u001b[0;32min\u001b[0m \u001b[0mall_mae_histories\u001b[0m\u001b[0;34m]\u001b[0m\u001b[0;34m)\u001b[0m \u001b[0;32mfor\u001b[0m \u001b[0mi\u001b[0m \u001b[0;32min\u001b[0m \u001b[0mrange\u001b[0m\u001b[0;34m(\u001b[0m\u001b[0mnum_epochs\u001b[0m\u001b[0;34m)\u001b[0m \u001b[0;34m]\u001b[0m\u001b[0;34m\u001b[0m\u001b[0;34m\u001b[0m\u001b[0m\n\u001b[0m\u001b[1;32m      4\u001b[0m \u001b[0;32mimport\u001b[0m \u001b[0mmatplotlib\u001b[0m\u001b[0;34m.\u001b[0m\u001b[0mpyplot\u001b[0m \u001b[0;32mas\u001b[0m \u001b[0mplt\u001b[0m\u001b[0;34m\u001b[0m\u001b[0;34m\u001b[0m\u001b[0m\n\u001b[1;32m      5\u001b[0m \u001b[0;34m\u001b[0m\u001b[0m\n",
            "\u001b[0;32m<ipython-input-24-da25f1a39f32>\u001b[0m in \u001b[0;36m<listcomp>\u001b[0;34m(.0)\u001b[0m\n\u001b[1;32m      1\u001b[0m \u001b[0;31m# plot results\u001b[0m\u001b[0;34m\u001b[0m\u001b[0;34m\u001b[0m\u001b[0;34m\u001b[0m\u001b[0m\n\u001b[1;32m      2\u001b[0m \u001b[0mnum_epochs\u001b[0m\u001b[0;34m=\u001b[0m\u001b[0;36m50\u001b[0m\u001b[0;34m\u001b[0m\u001b[0;34m\u001b[0m\u001b[0m\n\u001b[0;32m----> 3\u001b[0;31m \u001b[0maverage_mae_history\u001b[0m \u001b[0;34m=\u001b[0m \u001b[0;34m[\u001b[0m\u001b[0mnp\u001b[0m\u001b[0;34m.\u001b[0m\u001b[0mmean\u001b[0m\u001b[0;34m(\u001b[0m \u001b[0;34m[\u001b[0m\u001b[0mx\u001b[0m\u001b[0;34m[\u001b[0m\u001b[0mi\u001b[0m\u001b[0;34m]\u001b[0m \u001b[0;32mfor\u001b[0m \u001b[0mx\u001b[0m \u001b[0;32min\u001b[0m \u001b[0mall_mae_histories\u001b[0m\u001b[0;34m]\u001b[0m\u001b[0;34m)\u001b[0m \u001b[0;32mfor\u001b[0m \u001b[0mi\u001b[0m \u001b[0;32min\u001b[0m \u001b[0mrange\u001b[0m\u001b[0;34m(\u001b[0m\u001b[0mnum_epochs\u001b[0m\u001b[0;34m)\u001b[0m \u001b[0;34m]\u001b[0m\u001b[0;34m\u001b[0m\u001b[0;34m\u001b[0m\u001b[0m\n\u001b[0m\u001b[1;32m      4\u001b[0m \u001b[0;32mimport\u001b[0m \u001b[0mmatplotlib\u001b[0m\u001b[0;34m.\u001b[0m\u001b[0mpyplot\u001b[0m \u001b[0;32mas\u001b[0m \u001b[0mplt\u001b[0m\u001b[0;34m\u001b[0m\u001b[0;34m\u001b[0m\u001b[0m\n\u001b[1;32m      5\u001b[0m \u001b[0;34m\u001b[0m\u001b[0m\n",
            "\u001b[0;31mNameError\u001b[0m: name 'all_mae_histories' is not defined"
          ]
        }
      ]
    },
    {
      "cell_type": "code",
      "source": [
        "import tensorflow as tf\n",
        "tf.test.gpu_device_name()"
      ],
      "metadata": {
        "colab": {
          "base_uri": "https://localhost:8080/",
          "height": 35
        },
        "id": "MLvUQwkEI3AI",
        "outputId": "5503c64f-0e7c-41c9-94b0-95a295e56802"
      },
      "execution_count": null,
      "outputs": [
        {
          "output_type": "execute_result",
          "data": {
            "application/vnd.google.colaboratory.intrinsic+json": {
              "type": "string"
            },
            "text/plain": [
              "'/device:GPU:0'"
            ]
          },
          "metadata": {},
          "execution_count": 8
        }
      ]
    }
  ]
}